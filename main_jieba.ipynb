{
 "cells": [
  {
   "cell_type": "markdown",
   "id": "dfc9fdba-4ec4-4d86-948b-a424f4e56478",
   "metadata": {},
   "source": [
    "# 结巴分词实践"
   ]
  },
  {
   "cell_type": "markdown",
   "id": "173770f8-ee07-4bc4-ac65-f2ae0a7fa375",
   "metadata": {},
   "source": [
    "## 结巴分词的三种模式"
   ]
  },
  {
   "cell_type": "markdown",
   "id": "5c24c6b9-b595-4fd0-a0ce-c8ee8a63bfa1",
   "metadata": {},
   "source": [
    "### 精确模式"
   ]
  },
  {
   "cell_type": "code",
   "execution_count": 2,
   "id": "9c1218fd-bdd9-4d58-a877-e38a448aa6a6",
   "metadata": {},
   "outputs": [
    {
     "name": "stdout",
     "output_type": "stream",
     "text": [
      "精确模式分词结果： ['我', '来到', '北京', '清华大学']\n"
     ]
    }
   ],
   "source": [
    "import jieba  \n",
    "sentence1 = \"我来到北京清华大学\"  \n",
    "seg_list1 = jieba.lcut(sentence1, cut_all=False)  \n",
    "print(\"精确模式分词结果：\", seg_list1)  "
   ]
  },
  {
   "cell_type": "markdown",
   "id": "e5ee74a8-0007-45c9-97bc-0ce5d6d79113",
   "metadata": {},
   "source": [
    "### 全模式"
   ]
  },
  {
   "cell_type": "code",
   "execution_count": 3,
   "id": "0219481e-1160-4d20-97f4-fa2cc95e90ff",
   "metadata": {},
   "outputs": [
    {
     "name": "stdout",
     "output_type": "stream",
     "text": [
      "全模式分词结果： ['我', '来到', '北京', '清华', '清华大学', '华大', '大学']\n"
     ]
    }
   ],
   "source": [
    "import jieba  \n",
    "sentence1 = \"我来到北京清华大学\"  \n",
    "seg_list2 = jieba.lcut(sentence1, cut_all=True)  \n",
    "print(\"全模式分词结果：\", seg_list2)  "
   ]
  },
  {
   "cell_type": "markdown",
   "id": "b27d48d7-e62c-487b-96fb-5152cf518ee0",
   "metadata": {},
   "source": [
    "### 搜索引擎模式"
   ]
  },
  {
   "cell_type": "code",
   "execution_count": 4,
   "id": "be349e94-d0d8-4fd3-b4db-d028cb7d2401",
   "metadata": {},
   "outputs": [
    {
     "name": "stdout",
     "output_type": "stream",
     "text": [
      "搜索引擎模式分词结果： ['小明', '硕士', '毕业', '于', '中国', '科学', '学院', '科学院', '中国科学院', '计算', '计算所', '，', '后', '在', '日本', '京都', '大学', '日本京都大学', '深造']\n"
     ]
    }
   ],
   "source": [
    "import jieba  \n",
    "sentence3 = \"小明硕士毕业于中国科学院计算所，后在日本京都大学深造\"  \n",
    "seg_list3 = jieba.lcut_for_search(sentence3)  \n",
    "print(\"搜索引擎模式分词结果：\", seg_list3)  "
   ]
  },
  {
   "cell_type": "code",
   "execution_count": 4,
   "id": "aacce01d-0f3c-4ba2-9ad6-6b99c4cee577",
   "metadata": {},
   "outputs": [],
   "source": [
    "# 创建自定义词典文件并写入姓名  \n",
    "with open('userdict.txt', 'w', encoding='utf-8') as f:  \n",
    "    f.write(\"黄子豪 10 n\\n\")   \n",
    "    f.write(\"帅 10 n\\n\")   "
   ]
  },
  {
   "cell_type": "code",
   "execution_count": 5,
   "id": "e75fa1cf-c242-4167-a767-e31082710bf4",
   "metadata": {},
   "outputs": [
    {
     "name": "stdout",
     "output_type": "stream",
     "text": [
      "Default Mode: 黄子豪/会/是/自然语言/处理/方面/的/高手\n"
     ]
    }
   ],
   "source": [
    "import jieba  \n",
    "jieba.load_userdict(\"userdict.txt\")\n",
    "seg_list = jieba.cut(\"黄子豪会是自然语言处理方面的高手\", cut_all=False, HMM=False)\n",
    "print(\"Default Mode: \" + \"/\".join(seg_list))"
   ]
  }
 ],
 "metadata": {
  "kernelspec": {
   "display_name": "Python 3 (ipykernel)",
   "language": "python",
   "name": "python3"
  },
  "language_info": {
   "codemirror_mode": {
    "name": "ipython",
    "version": 3
   },
   "file_extension": ".py",
   "mimetype": "text/x-python",
   "name": "python",
   "nbconvert_exporter": "python",
   "pygments_lexer": "ipython3",
   "version": "3.9.21"
  }
 },
 "nbformat": 4,
 "nbformat_minor": 5
}
